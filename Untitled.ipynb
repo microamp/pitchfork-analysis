{
 "cells": [
  {
   "cell_type": "code",
   "execution_count": 35,
   "metadata": {
    "collapsed": false
   },
   "outputs": [],
   "source": [
    "from pyspark.sql import SQLContext\n",
    "from pyspark.sql import functions as sqlfns\n",
    "from pyspark.sql import types as sqltypes\n",
    "\n",
    "sqlContext = SQLContext(sc)"
   ]
  },
  {
   "cell_type": "code",
   "execution_count": 36,
   "metadata": {
    "collapsed": false
   },
   "outputs": [],
   "source": [
    "# Read a directory of JSON files using Spark SQL DataFrame\n",
    "\n",
    "import os\n",
    "\n",
    "path = \"%s/src/github.com/microamp/pitchfork-dl/reviews\" % os.environ.get(\"GOPATH\")\n",
    "reviews = sqlContext.read.json(path)"
   ]
  },
  {
   "cell_type": "code",
   "execution_count": 37,
   "metadata": {
    "collapsed": false
   },
   "outputs": [
    {
     "name": "stdout",
     "output_type": "stream",
     "text": [
      "root\n",
      " |-- albums: array (nullable = true)\n",
      " |    |-- element: struct (containsNull = true)\n",
      " |    |    |-- artists: array (nullable = true)\n",
      " |    |    |    |-- element: string (containsNull = true)\n",
      " |    |    |-- labels: array (nullable = true)\n",
      " |    |    |    |-- element: string (containsNull = true)\n",
      " |    |    |-- score: string (nullable = true)\n",
      " |    |    |-- title: string (nullable = true)\n",
      " |    |    |-- year: string (nullable = true)\n",
      " |-- article: string (nullable = true)\n",
      " |-- authors: array (nullable = true)\n",
      " |    |-- element: string (containsNull = true)\n",
      " |-- genres: array (nullable = true)\n",
      " |    |-- element: string (containsNull = true)\n",
      " |-- id: string (nullable = true)\n",
      "\n"
     ]
    }
   ],
   "source": [
    "# Check schema\n",
    "\n",
    "reviews.printSchema()"
   ]
  },
  {
   "cell_type": "code",
   "execution_count": 38,
   "metadata": {
    "collapsed": false
   },
   "outputs": [
    {
     "name": "stdout",
     "output_type": "stream",
     "text": [
      "+--------------------+------------------+--------------------+\n",
      "|                  id|           authors|              genres|\n",
      "+--------------------+------------------+--------------------+\n",
      "|     22044-dangerous|      [Jeff Weiss]|           [Pop/R&B]|\n",
      "|19860-sleater-kin...|      [Jenn Pelly]|              [Rock]|\n",
      "|16108-throbbing-g...|     [Drew Daniel]|[Rock, Experiment...|\n",
      "|     22045-mamas-gun|[Daphne A. Brooks]|           [Pop/R&B]|\n",
      "|17269-the-studio-...|  [Jessica Hopper]|              [Rock]|\n",
      "+--------------------+------------------+--------------------+\n",
      "only showing top 5 rows\n",
      "\n"
     ]
    }
   ],
   "source": [
    "# Show the first 5 rows\n",
    "\n",
    "reviews.select(\"id\", \"authors\", \"genres\").show(5)"
   ]
  },
  {
   "cell_type": "code",
   "execution_count": 39,
   "metadata": {
    "collapsed": false
   },
   "outputs": [
    {
     "data": {
      "text/plain": [
       "Row(id='22044-dangerous', albums=[Row(artists=['Michael Jackson'], labels=['Epic'], score='8.6', title='Dangerous', year='1991')], authors=['Jeff Weiss'], genres=['Pop/R&B'], article_starts_with='On the night of Nove')"
      ]
     },
     "execution_count": 39,
     "metadata": {},
     "output_type": "execute_result"
    }
   ],
   "source": [
    "# Without data truncated\n",
    "\n",
    "reviews.select(\"id\", \"albums\", \"authors\", \"genres\", \n",
    "               sqlfns.substring(sqlfns.col(\"article\"), 0, 20).alias(\"article_starts_with\")).\\\n",
    "    first()"
   ]
  },
  {
   "cell_type": "code",
   "execution_count": 40,
   "metadata": {
    "collapsed": false
   },
   "outputs": [
    {
     "data": {
      "text/plain": [
       "['AutoBatchedSerializer',\n",
       " 'Column',\n",
       " 'DataFrame',\n",
       " 'PickleSerializer',\n",
       " 'SparkContext',\n",
       " 'StringType',\n",
       " 'UserDefinedFunction',\n",
       " 'abs',\n",
       " 'acos',\n",
       " 'add_months',\n",
       " 'approxCountDistinct',\n",
       " 'array',\n",
       " 'array_contains',\n",
       " 'asc',\n",
       " 'ascii',\n",
       " 'asin',\n",
       " 'atan',\n",
       " 'atan2',\n",
       " 'avg',\n",
       " 'base64',\n",
       " 'bin',\n",
       " 'bitwiseNOT',\n",
       " 'blacklist',\n",
       " 'broadcast',\n",
       " 'bround',\n",
       " 'cbrt',\n",
       " 'ceil',\n",
       " 'coalesce',\n",
       " 'col',\n",
       " 'collect_list',\n",
       " 'collect_set',\n",
       " 'column',\n",
       " 'concat',\n",
       " 'concat_ws',\n",
       " 'conv',\n",
       " 'corr',\n",
       " 'cos',\n",
       " 'cosh',\n",
       " 'count',\n",
       " 'countDistinct',\n",
       " 'covar_pop',\n",
       " 'covar_samp',\n",
       " 'crc32',\n",
       " 'create_map',\n",
       " 'cume_dist',\n",
       " 'current_date',\n",
       " 'current_timestamp',\n",
       " 'date_add',\n",
       " 'date_format',\n",
       " 'date_sub',\n",
       " 'datediff',\n",
       " 'dayofmonth',\n",
       " 'dayofyear',\n",
       " 'decode',\n",
       " 'dense_rank',\n",
       " 'desc',\n",
       " 'encode',\n",
       " 'exp',\n",
       " 'explode',\n",
       " 'expm1',\n",
       " 'expr',\n",
       " 'factorial',\n",
       " 'first',\n",
       " 'floor',\n",
       " 'format_number',\n",
       " 'format_string',\n",
       " 'from_unixtime',\n",
       " 'from_utc_timestamp',\n",
       " 'get_json_object',\n",
       " 'greatest',\n",
       " 'grouping',\n",
       " 'grouping_id',\n",
       " 'hash',\n",
       " 'hex',\n",
       " 'hour',\n",
       " 'hypot',\n",
       " 'ignore_unicode_prefix',\n",
       " 'initcap',\n",
       " 'input_file_name',\n",
       " 'instr',\n",
       " 'isnan',\n",
       " 'isnull',\n",
       " 'json_tuple',\n",
       " 'kurtosis',\n",
       " 'lag',\n",
       " 'last',\n",
       " 'last_day',\n",
       " 'lead',\n",
       " 'least',\n",
       " 'length',\n",
       " 'levenshtein',\n",
       " 'lit',\n",
       " 'locate',\n",
       " 'log',\n",
       " 'log10',\n",
       " 'log1p',\n",
       " 'log2',\n",
       " 'lower',\n",
       " 'lpad',\n",
       " 'ltrim',\n",
       " 'math',\n",
       " 'max',\n",
       " 'md5',\n",
       " 'mean',\n",
       " 'min',\n",
       " 'minute',\n",
       " 'monotonically_increasing_id',\n",
       " 'month',\n",
       " 'months_between',\n",
       " 'nanvl',\n",
       " 'next_day',\n",
       " 'ntile',\n",
       " 'percent_rank',\n",
       " 'posexplode',\n",
       " 'pow',\n",
       " 'quarter',\n",
       " 'rand',\n",
       " 'randn',\n",
       " 'rank',\n",
       " 'regexp_extract',\n",
       " 'regexp_replace',\n",
       " 'repeat',\n",
       " 'reverse',\n",
       " 'rint',\n",
       " 'round',\n",
       " 'row_number',\n",
       " 'rpad',\n",
       " 'rtrim',\n",
       " 'second',\n",
       " 'sha1',\n",
       " 'sha2',\n",
       " 'shiftLeft',\n",
       " 'shiftRight',\n",
       " 'shiftRightUnsigned',\n",
       " 'signum',\n",
       " 'sin',\n",
       " 'since',\n",
       " 'sinh',\n",
       " 'size',\n",
       " 'skewness',\n",
       " 'sort_array',\n",
       " 'soundex',\n",
       " 'spark_partition_id',\n",
       " 'split',\n",
       " 'sqrt',\n",
       " 'stddev',\n",
       " 'stddev_pop',\n",
       " 'stddev_samp',\n",
       " 'struct',\n",
       " 'substring',\n",
       " 'substring_index',\n",
       " 'sum',\n",
       " 'sumDistinct',\n",
       " 'sys',\n",
       " 'tan',\n",
       " 'tanh',\n",
       " 'toDegrees',\n",
       " 'toRadians',\n",
       " 'to_date',\n",
       " 'to_utc_timestamp',\n",
       " 'translate',\n",
       " 'trim',\n",
       " 'trunc',\n",
       " 'udf',\n",
       " 'unbase64',\n",
       " 'unhex',\n",
       " 'unix_timestamp',\n",
       " 'upper',\n",
       " 'var_pop',\n",
       " 'var_samp',\n",
       " 'variance',\n",
       " 'weekofyear',\n",
       " 'when',\n",
       " 'window',\n",
       " 'year']"
      ]
     },
     "execution_count": 40,
     "metadata": {},
     "output_type": "execute_result"
    }
   ],
   "source": [
    "# List pyspark functions\n",
    "\n",
    "list(filter(lambda attr: not attr.startswith(\"_\"), dir(sqlfns)))"
   ]
  },
  {
   "cell_type": "code",
   "execution_count": 41,
   "metadata": {
    "collapsed": false
   },
   "outputs": [
    {
     "data": {
      "text/plain": [
       "'Reviews with multiple albums: 480'"
      ]
     },
     "execution_count": 41,
     "metadata": {},
     "output_type": "execute_result"
    }
   ],
   "source": [
    "# List reviews with multiple albums\n",
    "\n",
    "with_multiple_albums = reviews.filter(sqlfns.size(sqlfns.col(\"albums\")) > 1)\n",
    "with_multiple_albums.cache()\n",
    "\n",
    "\"Reviews with multiple albums: %d\" % with_multiple_albums.count()"
   ]
  },
  {
   "cell_type": "code",
   "execution_count": 42,
   "metadata": {
    "collapsed": false
   },
   "outputs": [
    {
     "name": "stdout",
     "output_type": "stream",
     "text": [
      "Help on method withColumn in module pyspark.sql.dataframe:\n",
      "\n",
      "withColumn(colName, col) method of pyspark.sql.dataframe.DataFrame instance\n",
      "    Returns a new :class:`DataFrame` by adding a column or replacing the\n",
      "    existing column that has the same name.\n",
      "    \n",
      "    :param colName: string, name of the new column.\n",
      "    :param col: a :class:`Column` expression for the new column.\n",
      "    \n",
      "    >>> df.withColumn('age2', df.age + 2).collect()\n",
      "    [Row(age=2, name='Alice', age2=4), Row(age=5, name='Bob', age2=7)]\n",
      "    \n",
      "    .. versionadded:: 1.3\n",
      "\n",
      "+----------------+\n",
      "|sum(album_count)|\n",
      "+----------------+\n",
      "|            1280|\n",
      "+----------------+\n",
      "\n"
     ]
    }
   ],
   "source": [
    "# Check how many albums in total are included in reviews with multiple albums\n",
    "\n",
    "help(with_multiple_albums.withColumn)\n",
    "\n",
    "with_multiple_albums.withColumn(\"album_count\", sqlfns.size(\"albums\")).\\\n",
    "    select(sqlfns.sum(\"album_count\")).show()"
   ]
  },
  {
   "cell_type": "code",
   "execution_count": 43,
   "metadata": {
    "collapsed": false
   },
   "outputs": [
    {
     "name": "stdout",
     "output_type": "stream",
     "text": [
      "Help on function explode in module pyspark.sql.functions:\n",
      "\n",
      "explode(col)\n",
      "    Returns a new row for each element in the given array or map.\n",
      "    \n",
      "    >>> from pyspark.sql import Row\n",
      "    >>> eDF = spark.createDataFrame([Row(a=1, intlist=[1,2,3], mapfield={\"a\": \"b\"})])\n",
      "    >>> eDF.select(explode(eDF.intlist).alias(\"anInt\")).collect()\n",
      "    [Row(anInt=1), Row(anInt=2), Row(anInt=3)]\n",
      "    \n",
      "    >>> eDF.select(explode(eDF.mapfield).alias(\"key\", \"value\")).show()\n",
      "    +---+-----+\n",
      "    |key|value|\n",
      "    +---+-----+\n",
      "    |  a|    b|\n",
      "    +---+-----+\n",
      "    \n",
      "    .. versionadded:: 1.4\n",
      "\n",
      "root\n",
      " |-- albums: array (nullable = true)\n",
      " |    |-- element: struct (containsNull = true)\n",
      " |    |    |-- artists: array (nullable = true)\n",
      " |    |    |    |-- element: string (containsNull = true)\n",
      " |    |    |-- labels: array (nullable = true)\n",
      " |    |    |    |-- element: string (containsNull = true)\n",
      " |    |    |-- score: string (nullable = true)\n",
      " |    |    |-- title: string (nullable = true)\n",
      " |    |    |-- year: string (nullable = true)\n",
      " |-- article: string (nullable = true)\n",
      " |-- authors: array (nullable = true)\n",
      " |    |-- element: string (containsNull = true)\n",
      " |-- genres: array (nullable = true)\n",
      " |    |-- element: string (containsNull = true)\n",
      " |-- id: string (nullable = true)\n",
      " |-- album: struct (nullable = true)\n",
      " |    |-- artists: array (nullable = true)\n",
      " |    |    |-- element: string (containsNull = true)\n",
      " |    |-- labels: array (nullable = true)\n",
      " |    |    |-- element: string (containsNull = true)\n",
      " |    |-- score: string (nullable = true)\n",
      " |    |-- title: string (nullable = true)\n",
      " |    |-- year: string (nullable = true)\n",
      "\n"
     ]
    },
    {
     "data": {
      "text/plain": [
       "'480 multi-album reviews expanded to 1280 single-album reviews'"
      ]
     },
     "execution_count": 43,
     "metadata": {},
     "output_type": "execute_result"
    }
   ],
   "source": [
    "# Each review to have only one album using `explode`\n",
    "\n",
    "help(sqlfns.explode)\n",
    "\n",
    "with_single_album = with_multiple_albums.withColumn(\"album\", sqlfns.explode(\"albums\"))\n",
    "with_single_album.cache()\n",
    "\n",
    "with_single_album.printSchema()\n",
    "\n",
    "\"%d multi-album reviews expanded to %d single-album reviews\" % (with_multiple_albums.count(), \n",
    "                                                                with_single_album.count(),)"
   ]
  },
  {
   "cell_type": "code",
   "execution_count": 44,
   "metadata": {
    "collapsed": false
   },
   "outputs": [
    {
     "name": "stdout",
     "output_type": "stream",
     "text": [
      "root\n",
      " |-- article: string (nullable = true)\n",
      " |-- authors: array (nullable = true)\n",
      " |    |-- element: string (containsNull = true)\n",
      " |-- genres: array (nullable = true)\n",
      " |    |-- element: string (containsNull = true)\n",
      " |-- id: string (nullable = true)\n",
      " |-- album: struct (nullable = true)\n",
      " |    |-- artists: array (nullable = true)\n",
      " |    |    |-- element: string (containsNull = true)\n",
      " |    |-- labels: array (nullable = true)\n",
      " |    |    |-- element: string (containsNull = true)\n",
      " |    |-- score: string (nullable = true)\n",
      " |    |-- title: string (nullable = true)\n",
      " |    |-- year: string (nullable = true)\n",
      "\n"
     ]
    },
    {
     "data": {
      "text/plain": [
       "'17782 single/multi-album reviews expanded to 18582 single-album reviews'"
      ]
     },
     "execution_count": 44,
     "metadata": {},
     "output_type": "execute_result"
    }
   ],
   "source": [
    "# Apply the technique above to all reviews, with or without multiple albums\n",
    "\n",
    "album_reviews = reviews.withColumn(\"album\", sqlfns.explode(\"albums\")).drop(\"albums\")\n",
    "album_reviews.cache()\n",
    "\n",
    "album_reviews.printSchema()\n",
    "\n",
    "\"%d single/multi-album reviews expanded to %d single-album reviews\" % (reviews.count(),\n",
    "                                                                       album_reviews.count(),)"
   ]
  },
  {
   "cell_type": "code",
   "execution_count": 45,
   "metadata": {
    "collapsed": false
   },
   "outputs": [
    {
     "name": "stdout",
     "output_type": "stream",
     "text": [
      "Help on method describe in module pyspark.sql.dataframe:\n",
      "\n",
      "describe(*cols) method of pyspark.sql.dataframe.DataFrame instance\n",
      "    Computes statistics for numeric columns.\n",
      "    \n",
      "    This include count, mean, stddev, min, and max. If no columns are\n",
      "    given, this function computes statistics for all numerical columns.\n",
      "    \n",
      "    .. note:: This function is meant for exploratory data analysis, as we make no         guarantee about the backward compatibility of the schema of the resulting DataFrame.\n",
      "    \n",
      "    >>> df.describe().show()\n",
      "    +-------+------------------+\n",
      "    |summary|               age|\n",
      "    +-------+------------------+\n",
      "    |  count|                 2|\n",
      "    |   mean|               3.5|\n",
      "    | stddev|2.1213203435596424|\n",
      "    |    min|                 2|\n",
      "    |    max|                 5|\n",
      "    +-------+------------------+\n",
      "    >>> df.describe(['age', 'name']).show()\n",
      "    +-------+------------------+-----+\n",
      "    |summary|               age| name|\n",
      "    +-------+------------------+-----+\n",
      "    |  count|                 2|    2|\n",
      "    |   mean|               3.5| null|\n",
      "    | stddev|2.1213203435596424| null|\n",
      "    |    min|                 2|Alice|\n",
      "    |    max|                 5|  Bob|\n",
      "    +-------+------------------+-----+\n",
      "    \n",
      "    .. versionadded:: 1.3.1\n",
      "\n",
      "+-------+-----------------+\n",
      "|summary|            score|\n",
      "+-------+-----------------+\n",
      "|  count|            18582|\n",
      "|   mean|7.029749231418419|\n",
      "| stddev|1.301369680072018|\n",
      "|    min|              0.0|\n",
      "|    max|             10.0|\n",
      "+-------+-----------------+\n",
      "\n"
     ]
    }
   ],
   "source": [
    "# Check scores!\n",
    "\n",
    "help(album_reviews.describe)\n",
    "\n",
    "def to_float(score):\n",
    "    try:\n",
    "        return float(score)\n",
    "    except ValueError:\n",
    "        return None\n",
    "\n",
    "udf_score_float = sqlfns.udf(to_float, sqltypes.FloatType())\n",
    "\n",
    "# Scores to be integers\n",
    "album_reviews = album_reviews.withColumn(\"score\", udf_score_float(album_reviews.album.score))\n",
    "\n",
    "album_reviews.describe(\"score\").show()"
   ]
  },
  {
   "cell_type": "code",
   "execution_count": 46,
   "metadata": {
    "collapsed": false
   },
   "outputs": [
    {
     "name": "stdout",
     "output_type": "stream",
     "text": [
      "+-----------------+--------------------+-------------------+----+-----+\n",
      "|          artists|               title|            authors|year|score|\n",
      "+-----------------+--------------------+-------------------+----+-----+\n",
      "|    [Sonic Youth]|NYC Ghosts & Flowers|[Brent DiCrescenzo]|2000|  0.0|\n",
      "|      [Liz Phair]|           Liz Phair|       [Matt LeMay]|2003|  0.0|\n",
      "|[Travis Morrison]|           Travistan|     [Chris Dahlen]|2004|  0.0|\n",
      "| [Robert Pollard]|Relaxation of the...|        [Eric Carr]|2005|  0.0|\n",
      "|            [Jet]|            Shine On|       [Ray Suzuki]|2006|  0.0|\n",
      "+-----------------+--------------------+-------------------+----+-----+\n",
      "\n"
     ]
    }
   ],
   "source": [
    "# Reviews with 0.0 score\n",
    "\n",
    "with_zero_score = album_reviews.filter(album_reviews.score == 0.0)\n",
    "with_zero_score.select(\"album.artists\", \"album.title\", \"authors\", \"album.year\", \"album.score\").\\\n",
    "    sort(\"album.year\").show()"
   ]
  },
  {
   "cell_type": "code",
   "execution_count": 47,
   "metadata": {
    "collapsed": false
   },
   "outputs": [
    {
     "name": "stdout",
     "output_type": "stream",
     "text": [
      "105 album reviews with the perfect score, 10!\n",
      "+--------------------+--------------------+--------------------+---------+-----+\n",
      "|             artists|               title|             authors|     year|score|\n",
      "+--------------------+--------------------+--------------------+---------+-----+\n",
      "|        [Pink Floyd]|             Animals|   [James P. Wisdom]|         | 10.0|\n",
      "|       [James Brown]|Live at the Apoll...|   [Dominique Leone]|1963/2004| 10.0|\n",
      "|       [Nina Simone]|          In Concert|   [Carvell Wallace]|1964/2016| 10.0|\n",
      "|      [Otis Redding]|Otis Blue: Otis R...|       [Nate Patrin]|1965/2008| 10.0|\n",
      "|       [The Beatles]|         Rubber Soul|  [Scott Plagenhoef]|1965/2009| 10.0|\n",
      "|       [The Beatles]|            Revolver|  [Scott Plagenhoef]|1966/2009| 10.0|\n",
      "|       [The Beatles]|Sgt. Pepper's Lon...|  [Scott Plagenhoef]|1967/2009| 10.0|\n",
      "|       [The Beatles]|Magical Mystery Tour|  [Scott Plagenhoef]|1967/2009| 10.0|\n",
      "|       [The Beatles]|         The Beatles|   [Mark Richardson]|1968/2009| 10.0|\n",
      "|[The Velvet Under...|White Light/White...|      [Douglas Wolk]|1968/2013| 10.0|\n",
      "|      [Van Morrison]|        Astral Weeks|[Stephen Thomas E...|1968/2015| 10.0|\n",
      "|       [The Beatles]|          Abbey Road|   [Mark Richardson]|1969/2009| 10.0|\n",
      "|        [Neil Young]|Everybody Knows T...|   [Mark Richardson]|1969/2009| 10.0|\n",
      "|[The Velvet Under...|The Velvet Underg...|     [Stuart Berman]|1969/2014| 10.0|\n",
      "|      [Led Zeppelin]|     Led Zeppelin II|   [Mark Richardson]|1969/2014| 10.0|\n",
      "|        [Neil Young]| After the Gold Rush|   [Mark Richardson]|1970/2009| 10.0|\n",
      "|[The Velvet Under...|Loaded: Re-Loaded...|     [Stuart Berman]|1970/2015| 10.0|\n",
      "|  [Serge Gainsbourg]|Histoire de Melod...|         [Tom Ewing]|1971/2009| 10.0|\n",
      "|               [Can]|Tago Mago [40th A...|      [Douglas Wolk]|1971/2011| 10.0|\n",
      "|     [Joni Mitchell]|                Blue|    [Jessica Hopper]|1971/2012| 10.0|\n",
      "+--------------------+--------------------+--------------------+---------+-----+\n",
      "only showing top 20 rows\n",
      "\n"
     ]
    }
   ],
   "source": [
    "# Reviews with the perfect score, 10.0\n",
    "\n",
    "with_perfect_score = album_reviews.filter(album_reviews.score == 10.0)\n",
    "with_perfect_score.cache()\n",
    "\n",
    "print(\"%d album reviews with the perfect score, 10!\" % with_perfect_score.count())\n",
    "with_perfect_score.select(\"album.artists\", \"album.title\", \"authors\", \"album.year\", \"score\").\\\n",
    "    sort(\"album.year\").show()"
   ]
  },
  {
   "cell_type": "code",
   "execution_count": 48,
   "metadata": {
    "collapsed": false
   },
   "outputs": [
    {
     "name": "stdout",
     "output_type": "stream",
     "text": [
      "root\n",
      " |-- article: string (nullable = true)\n",
      " |-- authors: array (nullable = true)\n",
      " |    |-- element: string (containsNull = true)\n",
      " |-- genres: array (nullable = true)\n",
      " |    |-- element: string (containsNull = true)\n",
      " |-- id: string (nullable = true)\n",
      " |-- album: struct (nullable = true)\n",
      " |    |-- artists: array (nullable = true)\n",
      " |    |    |-- element: string (containsNull = true)\n",
      " |    |-- labels: array (nullable = true)\n",
      " |    |    |-- element: string (containsNull = true)\n",
      " |    |-- score: string (nullable = true)\n",
      " |    |-- title: string (nullable = true)\n",
      " |    |-- year: string (nullable = true)\n",
      " |-- score: float (nullable = true)\n",
      " |-- original_year: integer (nullable = true)\n",
      " |-- remastered_year: integer (nullable = true)\n",
      "\n",
      "+---------------+-----------------+-----+\n",
      "|          title|          artists|score|\n",
      "+---------------+-----------------+-----+\n",
      "|      Dangerous|[Michael Jackson]|  8.6|\n",
      "| Start Together| [Sleater-Kinney]|  9.2|\n",
      "| Sleater-Kinney| [Sleater-Kinney]|  7.8|\n",
      "|Call the Doctor| [Sleater-Kinney]|  8.6|\n",
      "|     Dig Me Out| [Sleater-Kinney]|  9.3|\n",
      "+---------------+-----------------+-----+\n",
      "only showing top 5 rows\n",
      "\n"
     ]
    }
   ],
   "source": [
    "# With original/remastered years\n",
    "\n",
    "def with_original_year(album_years):\n",
    "    years = album_years.split(\"/\")\n",
    "    return int(years[0]) if years[0] else None\n",
    "\n",
    "def with_remastered_year(album_years):\n",
    "    return int(album_years.split(\"/\")[1]) if \"/\" in album_years else None\n",
    "\n",
    "udf_original_year = sqlfns.udf(with_original_year, sqltypes.IntegerType())\n",
    "udf_remastered_year = sqlfns.udf(with_remastered_year, sqltypes.IntegerType())\n",
    "\n",
    "album_reviews = album_reviews.\\\n",
    "    withColumn(\"original_year\", udf_original_year(album_reviews.album.year)).\\\n",
    "    withColumn(\"remastered_year\", udf_remastered_year(album_reviews.album.year))\n",
    "album_reviews.cache()\n",
    "\n",
    "album_reviews.printSchema()\n",
    "album_reviews.select(\"album.title\", \"album.artists\", \"score\").show(5)"
   ]
  },
  {
   "cell_type": "code",
   "execution_count": 49,
   "metadata": {
    "collapsed": false
   },
   "outputs": [
    {
     "data": {
      "text/plain": [
       "<matplotlib.collections.PathCollection at 0x11377a6a0>"
      ]
     },
     "execution_count": 49,
     "metadata": {},
     "output_type": "execute_result"
    },
    {
     "data": {
      "image/png": "[encoded data removed]",
      "text/plain": [
       "<matplotlib.figure.Figure at 0x10f4162e8>"
      ]
     },
     "metadata": {},
     "output_type": "display_data"
    }
   ],
   "source": [
    "# Plot\n",
    "%matplotlib inline\n",
    "\n",
    "import seaborn as sns\n",
    "import matplotlib.pyplot as plt\n",
    "\n",
    "years_and_scores = album_reviews.\\\n",
    "    filter(~sqlfns.isnull(\"original_year\")).\\\n",
    "    select(\"original_year\", \"score\").collect()\n",
    "\n",
    "years = [r[0] for r in years_and_scores]\n",
    "scores = [r[1] for r in years_and_scores]\n",
    "\n",
    "#print(min(years))\n",
    "\n",
    "fig = plt.figure(figsize=(12, 15))\n",
    "plt.title(\"Album Review Scores\")\n",
    "plt.axis([min(years) - 1, max(years) + 1,\n",
    "          -0.1, 10 + 0.1])\n",
    "plt.xlabel(\"Year\")\n",
    "plt.ylabel(\"Score\")\n",
    "\n",
    "plt.scatter(years, scores)"
   ]
  },
  {
   "cell_type": "code",
   "execution_count": 50,
   "metadata": {
    "collapsed": false
   },
   "outputs": [
    {
     "name": "stdout",
     "output_type": "stream",
     "text": [
      "Album reviews with no year specified: 407\n",
      "+-------------+------------------+--------+\n",
      "|original_year|         score_avg|reviewed|\n",
      "+-------------+------------------+--------+\n",
      "|         2000| 7.092951576221357|     227|\n",
      "|         2001| 7.009090919771403|     561|\n",
      "|         2002| 6.813844268287363|     809|\n",
      "|         2003|6.9799212683138885|    1016|\n",
      "|         2004| 7.170926846062264|    1025|\n",
      "|         2005| 7.009256214075838|    1210|\n",
      "|         2006| 6.957142859953816|    1162|\n",
      "|         2007| 6.817819155594136|    1128|\n",
      "|         2008|  6.83056732337168|    1181|\n",
      "|         2009| 6.841766734232113|    1166|\n",
      "|         2010|6.9883537715245465|    1142|\n",
      "|         2011| 7.053970977549468|    1171|\n",
      "|         2012|6.9876511302842585|    1158|\n",
      "|         2013| 7.004306646793901|    1161|\n",
      "|         2014| 6.994578909666241|    1033|\n",
      "|         2015| 7.045711415567022|     991|\n",
      "|         2016|  7.12047246192384|    1016|\n",
      "+-------------+------------------+--------+\n",
      "\n"
     ]
    }
   ],
   "source": [
    "# By year\n",
    "\n",
    "# No year\n",
    "with_no_year = album_reviews.filter(sqlfns.isnull(\"original_year\"))\n",
    "print(\"Album reviews with no year specified: %d\" % with_no_year.count())\n",
    "\n",
    "# Average by year (post-2000)\n",
    "by_year = album_reviews.\\\n",
    "    filter(~sqlfns.isnull(\"original_year\")).\\\n",
    "    groupby(\"original_year\").\\\n",
    "    agg(sqlfns.avg(\"score\").alias(\"score_avg\"),\n",
    "        sqlfns.count(\"*\").alias(\"reviewed\")).\\\n",
    "    sort(\"original_year\")\n",
    "    \n",
    "by_year.cache()\n",
    "\n",
    "post_2000 = by_year.\\\n",
    "    filter(by_year.original_year >= 2000)\n",
    "\n",
    "post_2000.show()"
   ]
  },
  {
   "cell_type": "code",
   "execution_count": 51,
   "metadata": {
    "collapsed": false
   },
   "outputs": [
    {
     "data": {
      "text/plain": [
       "<Container object of 17 artists>"
      ]
     },
     "execution_count": 51,
     "metadata": {},
     "output_type": "execute_result"
    },
    {
     "data": {
      "image/png": "[encoded data removed]",
      "text/plain": [
       "<matplotlib.figure.Figure at 0x1144af4e0>"
      ]
     },
     "metadata": {},
     "output_type": "display_data"
    }
   ],
   "source": [
    "temp = post_2000.collect()\n",
    "years = [r[0] for r in temp]\n",
    "reviewed = [r[2] for r in temp]\n",
    "\n",
    "fig = plt.figure(figsize=(12, 7))\n",
    "plt.title(\"Albums Reviewed By Year (post-2000)\")\n",
    "plt.axis([min(years), max(years),\n",
    "          0, max(reviewed) + 50])\n",
    "plt.xlabel(\"Year\")\n",
    "plt.ylabel(\"Albums Reviewed\")\n",
    "\n",
    "plt.bar(years, reviewed)"
   ]
  },
  {
   "cell_type": "code",
   "execution_count": 63,
   "metadata": {
    "collapsed": false
   },
   "outputs": [
    {
     "data": {
      "text/plain": [
       "<Container object of 57 artists>"
      ]
     },
     "execution_count": 63,
     "metadata": {},
     "output_type": "execute_result"
    },
    {
     "data": {
      "image/png": "[encoded data removed]",
      "text/plain": [
       "<matplotlib.figure.Figure at 0x113428780>"
      ]
     },
     "metadata": {},
     "output_type": "display_data"
    }
   ],
   "source": [
    "temp = by_year.collect()\n",
    "years = [r[0] for r in temp]\n",
    "avgs = [r[1] for r in temp]\n",
    "\n",
    "fig = plt.figure(figsize=(12, 7))\n",
    "plt.title(\"Score Avg by Year\")\n",
    "plt.axis([min(years), max(years),\n",
    "          0, 10])\n",
    "plt.xlabel(\"Year\")\n",
    "plt.ylabel(\"Albums Reviewed\")\n",
    "\n",
    "plt.bar(years, avgs)"
   ]
  },
  {
   "cell_type": "code",
   "execution_count": 53,
   "metadata": {
    "collapsed": false
   },
   "outputs": [
    {
     "name": "stdout",
     "output_type": "stream",
     "text": [
      "+--------------------+--------------------+----+-------------+-----+\n",
      "|               title|             artists|year|original_year|score|\n",
      "+--------------------+--------------------+----+-------------+-----+\n",
      "|             Animals|        [Pink Floyd]|    |         null| 10.0|\n",
      "| Tonight's the Night|        [Neil Young]|1975|         1975| 10.0|\n",
      "| Another Green World|         [Brian Eno]|1975|         1975| 10.0|\n",
      "| Blood on the Tracks|         [Bob Dylan]|1975|         1975| 10.0|\n",
      "|Songs in the Key ...|     [Stevie Wonder]|1976|         1976| 10.0|\n",
      "|           Pink Flag|              [Wire]|1977|         1977| 10.0|\n",
      "|        Marquee Moon|        [Television]|1977|         1977| 10.0|\n",
      "|                 Low|       [David Bowie]|1977|         1977| 10.0|\n",
      "|            \"Heroes\"|       [David Bowie]|1977|         1977| 10.0|\n",
      "|      Chairs Missing|              [Wire]|1978|         1978| 10.0|\n",
      "|          Dirty Mind|            [Prince]|1980|         1980| 10.0|\n",
      "|                1999|            [Prince]|1982|         1982| 10.0|\n",
      "|         Purple Rain|[Prince, The Revo...|1984|         1984| 10.0|\n",
      "|      Hounds of Love|         [Kate Bush]|1985|         1985| 10.0|\n",
      "|  Sign \"O\" the Times|            [Prince]|1987|         1987| 10.0|\n",
      "|         Surfer Rosa|            [Pixies]|1988|         1988| 10.0|\n",
      "|           Doolittle|            [Pixies]|1989|         1989| 10.0|\n",
      "|    I See a Darkness|[Bonnie “Prince” ...|1999|         1999| 10.0|\n",
      "|               Kid A|         [Radiohead]|2000|         2000| 10.0|\n",
      "|The Olatunji Conc...|     [John Coltrane]|2001|         2001| 10.0|\n",
      "+--------------------+--------------------+----+-------------+-----+\n",
      "only showing top 20 rows\n",
      "\n"
     ]
    }
   ],
   "source": [
    "# Reviews with the perfect score, 10 (non-remasters ONLY)\n",
    "\n",
    "with_perfect_score_non_remasters_only = album_reviews.\\\n",
    "    filter(album_reviews.score == 10.0).\\\n",
    "    filter(sqlfns.isnull(\"remastered_year\"))\n",
    "with_perfect_score_non_remasters_only.cache()\n",
    "    \n",
    "with_perfect_score_non_remasters_only.\\\n",
    "    select(\"album.title\", \"album.artists\", \"album.year\", \"original_year\", \"score\").\\\n",
    "    sort(\"original_year\").\\\n",
    "    show()"
   ]
  },
  {
   "cell_type": "code",
   "execution_count": 54,
   "metadata": {
    "collapsed": false
   },
   "outputs": [
    {
     "name": "stdout",
     "output_type": "stream",
     "text": [
      "+--------------------+--------------------+-------------+-----+\n",
      "|               title|             artists|original_year|score|\n",
      "+--------------------+--------------------+-------------+-----+\n",
      "|A Love Supreme: T...|     [John Coltrane]|         2015| 10.0|\n",
      "|The Disintegratio...|  [William Basinski]|         2012| 10.0|\n",
      "|      Laughing Stock|         [Talk Talk]|         2011| 10.0|\n",
      "|  The Smile Sessions|    [The Beach Boys]|         2011| 10.0|\n",
      "|Nevermind [20th A...|           [Nirvana]|         2011| 10.0|\n",
      "|Siamese Dream [De...|[The Smashing Pum...|         2011| 10.0|\n",
      "|Emergency & I [Vi...|[The Dismembermen...|         2011| 10.0|\n",
      "|   The Queen Is Dead|        [The Smiths]|         2011| 10.0|\n",
      "|    Hatful of Hollow|        [The Smiths]|         2011| 10.0|\n",
      "| Quarantine the Past|          [Pavement]|         2010| 10.0|\n",
      "|My Beautiful Dark...|        [Kanye West]|         2010| 10.0|\n",
      "|             On Fire|       [Galaxie 500]|         2010| 10.0|\n",
      "|Pinkerton [Deluxe...|            [Weezer]|         2010| 10.0|\n",
      "|Disintegration [D...|          [The Cure]|         2010| 10.0|\n",
      "|Exile on Main St....|[The Rolling Stones]|         2010| 10.0|\n",
      "|             In Mono|       [The Beatles]|         2009| 10.0|\n",
      "|Ladies and Gentle...|     [Spiritualized]|         2009| 10.0|\n",
      "|The Bends: Collec...|         [Radiohead]|         2009| 10.0|\n",
      "|          Stereo Box|       [The Beatles]|         2009| 10.0|\n",
      "|OK Computer: Coll...|         [Radiohead]|         2009| 10.0|\n",
      "+--------------------+--------------------+-------------+-----+\n",
      "only showing top 20 rows\n",
      "\n"
     ]
    }
   ],
   "source": [
    "# Reviews with the perfect score, 10 (non-remasters ONLY), in 2000s\n",
    "\n",
    "with_perfect_score_non_remasters_only.\\\n",
    "    select(\"album.title\", \"album.artists\", \"original_year\", \"score\").\\\n",
    "    filter(with_perfect_score_non_remasters_only.original_year >= 2000).\\\n",
    "    sort(\"original_year\", ascending=False).\\\n",
    "    show()"
   ]
  },
  {
   "cell_type": "code",
   "execution_count": 55,
   "metadata": {
    "collapsed": false
   },
   "outputs": [
    {
     "data": {
      "text/plain": [
       "0"
      ]
     },
     "execution_count": 55,
     "metadata": {},
     "output_type": "execute_result"
    }
   ],
   "source": [
    "# Album reviews with multiple authors\n",
    "\n",
    "album_reviews.filter(sqlfns.size(album_reviews.authors) > 1).count()"
   ]
  },
  {
   "cell_type": "code",
   "execution_count": 56,
   "metadata": {
    "collapsed": false
   },
   "outputs": [
    {
     "name": "stdout",
     "output_type": "stream",
     "text": [
      "+---------------+-----------------+----------+\n",
      "|          title|          artists|    author|\n",
      "+---------------+-----------------+----------+\n",
      "|      Dangerous|[Michael Jackson]|Jeff Weiss|\n",
      "| Start Together| [Sleater-Kinney]|Jenn Pelly|\n",
      "| Sleater-Kinney| [Sleater-Kinney]|Jenn Pelly|\n",
      "|Call the Doctor| [Sleater-Kinney]|Jenn Pelly|\n",
      "|     Dig Me Out| [Sleater-Kinney]|Jenn Pelly|\n",
      "+---------------+-----------------+----------+\n",
      "only showing top 5 rows\n",
      "\n"
     ]
    }
   ],
   "source": [
    "# With comma-separated authors\n",
    "\n",
    "def with_csv_authors(authors):\n",
    "    return \", \".join(authors)\n",
    "\n",
    "udf_with_author = sqlfns.udf(with_csv_authors, sqltypes.StringType())\n",
    "\n",
    "album_reviews = album_reviews.withColumn(\"author\", udf_with_author(album_reviews.authors))\n",
    "\n",
    "album_reviews.select(\"album.title\", \"album.artists\", \"author\").show(5)"
   ]
  },
  {
   "cell_type": "code",
   "execution_count": 57,
   "metadata": {
    "collapsed": false
   },
   "outputs": [
    {
     "name": "stdout",
     "output_type": "stream",
     "text": [
      "+--------------------+--------------------+---------------+---------+-----+\n",
      "|               title|             artists|         author|     year|score|\n",
      "+--------------------+--------------------+---------------+---------+-----+\n",
      "|         Purple Rain|Prince, The Revol...|Carvell Wallace|     1984| 10.0|\n",
      "|   String Quartet II|Morton Feldman, I...|   Chris Dahlen|     2001|  9.5|\n",
      "|       Black Messiah|D'Angelo, The Van...|  Craig Jenkins|     2014|  9.4|\n",
      "|      After the Heat|Brian Eno, Dieter...|Mark Richardson|1978/2005|  9.3|\n",
      "|                 Ram|Paul McCartney, L...|  Jayson Greene|1971/2012|  9.2|\n",
      "|              Parade|Prince, The Revol...|   Douglas Wolk|     1986|  9.1|\n",
      "|Outside the Dream...|  Tony Conrad, Faust|Brent S. Sirota|1972/2002|  9.0|\n",
      "|      After the Heat|Brian Eno, Dieter...|      Andy Beta|1978/2005|  9.0|\n",
      "|          Open, Coma|Tim Berne, Herb R...|   Chris Dahlen|     2002|  8.9|\n",
      "|Around the World ...|Prince, The Revol...|     Alan Light|     1985|  8.8|\n",
      "+--------------------+--------------------+---------------+---------+-----+\n",
      "only showing top 10 rows\n",
      "\n"
     ]
    }
   ],
   "source": [
    "# Best rated collabo albums\n",
    "\n",
    "def csv_artists(artists):\n",
    "    return \", \".join(artists)\n",
    "\n",
    "udf_csv_artists = sqlfns.udf(csv_artists, sqltypes.StringType())\n",
    "\n",
    "album_reviews.filter(sqlfns.size(\"album.artists\") > 1).\\\n",
    "    select(\"album.title\", \n",
    "           udf_csv_artists(\"album.artists\").alias(\"artists\"),\n",
    "           \"author\", \"album.year\", \"score\").\\\n",
    "    sort(\"score\", ascending=False).\\\n",
    "    show(10)"
   ]
  },
  {
   "cell_type": "code",
   "execution_count": 58,
   "metadata": {
    "collapsed": false
   },
   "outputs": [
    {
     "name": "stdout",
     "output_type": "stream",
     "text": [
      "4143 reviews with multiple genres\n",
      "+------------+--------+------------+\n",
      "|       title| artists|       genre|\n",
      "+------------+--------+------------+\n",
      "|HOPELESSNESS|[ANOHNI]|     Pop/R&B|\n",
      "|HOPELESSNESS|[ANOHNI]|Experimental|\n",
      "+------------+--------+------------+\n",
      "\n"
     ]
    }
   ],
   "source": [
    "# Album reviews with multiple genres\n",
    "\n",
    "with_multiple_genres = album_reviews.filter(sqlfns.size(album_reviews.genres) > 1)\n",
    "print(\"%d reviews with multiple genres\" % with_multiple_genres.count())\n",
    "\n",
    "album_reviews.withColumn(\"genre\", sqlfns.explode(\"genres\")).\\\n",
    "    filter(with_multiple_genres.album.title == \"HOPELESSNESS\").\\\n",
    "    select(\"album.title\", \"album.artists\", \"genre\").\\\n",
    "    show()"
   ]
  },
  {
   "cell_type": "code",
   "execution_count": 59,
   "metadata": {
    "collapsed": false
   },
   "outputs": [
    {
     "name": "stdout",
     "output_type": "stream",
     "text": [
      "Help on method groupBy in module pyspark.sql.dataframe:\n",
      "\n",
      "groupBy(*cols) method of pyspark.sql.dataframe.DataFrame instance\n",
      "    :func:`groupby` is an alias for :func:`groupBy`.\n",
      "    \n",
      "    .. versionadded:: 1.4\n",
      "\n",
      "+------------+-----------------+---------+---------+--------+\n",
      "|       genre|        score_avg|score_max|score_min|reviewed|\n",
      "+------------+-----------------+---------+---------+--------+\n",
      "|      Global|7.522943757829212|      9.7|      2.2|     231|\n",
      "|Experimental|7.350647254894209|     10.0|      0.3|    1854|\n",
      "|        Jazz|7.318636365370317|     10.0|      1.0|     440|\n",
      "|Folk/Country|7.215306127036626|     10.0|      2.2|     686|\n",
      "|        Rock|6.980606763876109|     10.0|      0.0|    9658|\n",
      "|       Metal| 6.95941375773883|     10.0|      0.2|     887|\n",
      "|  Electronic|6.955307972594595|     10.0|      0.0|    3994|\n",
      "|     Pop/R&B|6.902234270053897|     10.0|      0.0|    1477|\n",
      "|         Rap|6.901079632452464|     10.0|      0.8|    1482|\n",
      "+------------+-----------------+---------+---------+--------+\n",
      "\n"
     ]
    }
   ],
   "source": [
    "# Which genres gets loved the most?\n",
    "\n",
    "help(album_reviews.groupby)\n",
    "\n",
    "grouped_by_genre = album_reviews.withColumn(\"genre\", sqlfns.explode(\"genres\")).groupby(\"genre\")\n",
    "\n",
    "agg_by_genre = grouped_by_genre.agg(sqlfns.avg(\"score\").alias(\"score_avg\"),\n",
    "                                    sqlfns.max(\"score\").alias(\"score_max\"),\n",
    "                                    sqlfns.min(\"score\").alias(\"score_min\"),\n",
    "                                    sqlfns.count(\"*\").alias(\"reviewed\"))\n",
    "agg_by_genre.sort(\"score_avg\", ascending=False).show()"
   ]
  },
  {
   "cell_type": "code",
   "execution_count": 60,
   "metadata": {
    "collapsed": false
   },
   "outputs": [
    {
     "data": {
      "text/plain": [
       "([<matplotlib.patches.Wedge at 0x113464160>,\n",
       "  <matplotlib.patches.Wedge at 0x113464fd0>,\n",
       "  <matplotlib.patches.Wedge at 0x113467c50>,\n",
       "  <matplotlib.patches.Wedge at 0x11346b8d0>,\n",
       "  <matplotlib.patches.Wedge at 0x11346f550>,\n",
       "  <matplotlib.patches.Wedge at 0x11366d1d0>,\n",
       "  <matplotlib.patches.Wedge at 0x11366de10>,\n",
       "  <matplotlib.patches.Wedge at 0x113673a90>,\n",
       "  <matplotlib.patches.Wedge at 0x113679710>],\n",
       " [<matplotlib.text.Text at 0x113464b38>,\n",
       "  <matplotlib.text.Text at 0x1134677b8>,\n",
       "  <matplotlib.text.Text at 0x11346b438>,\n",
       "  <matplotlib.text.Text at 0x11346bf98>,\n",
       "  <matplotlib.text.Text at 0x11346fcf8>,\n",
       "  <matplotlib.text.Text at 0x11366d978>,\n",
       "  <matplotlib.text.Text at 0x1136735f8>,\n",
       "  <matplotlib.text.Text at 0x113679278>,\n",
       "  <matplotlib.text.Text at 0x113679eb8>])"
      ]
     },
     "execution_count": 60,
     "metadata": {},
     "output_type": "execute_result"
    },
    {
     "data": {
      "image/png": "[encoded data removed]",
      "text/plain": [
       "<matplotlib.figure.Figure at 0x1134204e0>"
      ]
     },
     "metadata": {},
     "output_type": "display_data"
    }
   ],
   "source": [
    "fig = plt.figure(figsize=(7, 7))\n",
    "plt.title(\"Albums by Genre\")\n",
    "\n",
    "temp = agg_by_genre.collect()\n",
    "genres = [r[0] for r in temp]\n",
    "reviewed = [r[4] for r in temp]\n",
    "\n",
    "plt.pie(reviewed, labels=genres)"
   ]
  },
  {
   "cell_type": "code",
   "execution_count": 61,
   "metadata": {
    "collapsed": false
   },
   "outputs": [
    {
     "data": {
      "text/plain": [
       "([<matplotlib.axis.XTick at 0x113692b00>,\n",
       "  <matplotlib.axis.XTick at 0x11338c470>,\n",
       "  <matplotlib.axis.XTick at 0x113429518>,\n",
       "  <matplotlib.axis.XTick at 0x1136eea20>,\n",
       "  <matplotlib.axis.XTick at 0x1136f2550>,\n",
       "  <matplotlib.axis.XTick at 0x1136f6080>,\n",
       "  <matplotlib.axis.XTick at 0x1136f6b70>,\n",
       "  <matplotlib.axis.XTick at 0x1136fa6a0>,\n",
       "  <matplotlib.axis.XTick at 0x1136fe1d0>],\n",
       " <a list of 9 Text xticklabel objects>)"
      ]
     },
     "execution_count": 61,
     "metadata": {},
     "output_type": "execute_result"
    },
    {
     "data": {
      "image/png": "[encoded data removed]",
      "text/plain": [
       "<matplotlib.figure.Figure at 0x1134643c8>"
      ]
     },
     "metadata": {},
     "output_type": "display_data"
    }
   ],
   "source": [
    "temp = agg_by_genre.sort(\"score_avg\").collect()\n",
    "genres = [r[0] for r in temp]\n",
    "avgs = [r[1] for r in temp]\n",
    "\n",
    "nums = list(range(len(genres)))\n",
    "\n",
    "fig = plt.figure(figsize=(15, 7))\n",
    "plt.title(\"Score Avg by Genre\")\n",
    "\n",
    "plt.bar(nums, avgs, align=\"center\")\n",
    "plt.xticks(nums, genres)"
   ]
  },
  {
   "cell_type": "code",
   "execution_count": 64,
   "metadata": {
    "collapsed": false
   },
   "outputs": [
    {
     "name": "stdout",
     "output_type": "stream",
     "text": [
      "+--------------+------------------+---------+---------+--------+\n",
      "|        author|         score_avg|score_max|score_min|reviewed|\n",
      "+--------------+------------------+---------+---------+--------+\n",
      "|  Adam Moerder| 6.164077675458297|      8.5|      1.5|     206|\n",
      "|   Joshua Love| 6.342056102841814|      9.1|      2.0|     107|\n",
      "|     Ian Cohen| 6.348471622952034|     10.0|      0.2|     687|\n",
      "|   Rob Mitchum| 6.396511617210484|     10.0|      0.4|     258|\n",
      "|  David Raposa| 6.523125015199184|      9.6|      2.5|     160|\n",
      "|   Eric Harvey| 6.597777795791626|      9.0|      1.5|     135|\n",
      "|    Zach Kelly| 6.598684196409426|      8.5|      3.7|     152|\n",
      "|     Eric Carr| 6.600000026516425|     10.0|      0.0|     117|\n",
      "|    Marc Hogan| 6.613348420389098|      9.2|      0.9|     442|\n",
      "|Nick Sylvester| 6.682031279429793|      9.0|      0.5|     128|\n",
      "| Paul Thompson| 6.710267869489534|     10.0|      2.8|     224|\n",
      "|  Joshua Klein| 6.730875563511651|     10.0|      2.7|     217|\n",
      "|   Tom Breihan| 6.757547177796094|      9.5|      1.6|     212|\n",
      "|  Douglas Wolk| 6.795424837692111|     10.0|      1.3|     153|\n",
      "|  Nick Neyland| 6.840654199368486|      9.2|      4.6|     214|\n",
      "|   Jason Crock| 6.870522403894966|      9.3|      2.0|     268|\n",
      "|   Paul Cooper| 6.888695633929709|      9.5|      2.2|     115|\n",
      "|       Sam Ubl| 6.897402613193957|      8.7|      2.0|     154|\n",
      "| Andrew Gaerig|6.8992700916137135|      9.0|      2.9|     274|\n",
      "|     Joe Colly| 6.933027513530276|      9.0|      1.4|     109|\n",
      "+--------------+------------------+---------+---------+--------+\n",
      "only showing top 20 rows\n",
      "\n"
     ]
    },
    {
     "data": {
      "text/plain": [
       "[Row(title='The Airing of Grievances', artists=['Titus Andronicus'], score=8.5, author='Adam Moerder')]"
      ]
     },
     "execution_count": 64,
     "metadata": {},
     "output_type": "execute_result"
    }
   ],
   "source": [
    "# Which author rates lowest?\n",
    "\n",
    "grouped_by_author = album_reviews.withColumn(\"author\", sqlfns.explode(\"authors\")).groupby(\"author\")\n",
    "\n",
    "score_avg_by_author = grouped_by_author.agg(sqlfns.avg(\"score\").alias(\"score_avg\"),\n",
    "                                            sqlfns.max(\"score\").alias(\"score_max\"),\n",
    "                                            sqlfns.min(\"score\").alias(\"score_min\"),\n",
    "                                            sqlfns.count(\"*\").alias(\"reviewed\"))\n",
    "\n",
    "# Only those who have reviewed 100 or more albums\n",
    "score_avg_by_author.filter(score_avg_by_author.reviewed >= 100).\\\n",
    "    sort(score_avg_by_author.score_avg).\\\n",
    "    show()\n",
    "    \n",
    "# The highest rated review by Adam Moerder (8.5)\n",
    "album_reviews.\\\n",
    "    filter(album_reviews.author == \"Adam Moerder\").\\\n",
    "    filter(album_reviews.score == 8.5).\\\n",
    "    select(\"album.title\", \"album.artists\", \"score\", \"author\").\\\n",
    "    collect()"
   ]
  },
  {
   "cell_type": "code",
   "execution_count": 117,
   "metadata": {
    "collapsed": false
   },
   "outputs": [
    {
     "name": "stdout",
     "output_type": "stream",
     "text": [
      "10 most loved artists (with 5 or more albums reviewed):\n",
      "+--------------------+-----------------+------+\n",
      "|              artist|        score_avg|albums|\n",
      "+--------------------+-----------------+------+\n",
      "|The Velvet Underg...|9.524999976158142|     8|\n",
      "|          Funkadelic|9.020000076293945|     5|\n",
      "|            Pavement|              9.0|     5|\n",
      "|           This Heat|8.980000114440918|     5|\n",
      "|         The Beatles|8.940909082239324|    22|\n",
      "|      Caetano Veloso|8.839999961853028|     5|\n",
      "|      Sleater-Kinney|8.800000095367432|    10|\n",
      "|       Joanna Newsom|8.759999847412109|     5|\n",
      "|         Miles Davis|8.730769194089449|    13|\n",
      "|         Galaxie 500|8.679999923706054|     5|\n",
      "+--------------------+-----------------+------+\n",
      "\n",
      "10 least loved artists (with 5 or more albums reviewed):\n",
      "+--------------------+------------------+------+\n",
      "|              artist|         score_avg|albums|\n",
      "+--------------------+------------------+------+\n",
      "|   The Dandy Warhols|3.6199999809265138|     5|\n",
      "|         Joan of Arc|3.6833333373069763|     6|\n",
      "|     The Get Up Kids|3.7799999713897705|     5|\n",
      "|            N.E.R.D.| 4.359999942779541|     5|\n",
      "|               Gomez|4.3599999904632565|     5|\n",
      "|      The Mars Volta| 4.457142898014614|     7|\n",
      "|                Moby| 4.471428564616612|     7|\n",
      "|              Tricky| 4.614285741533552|     7|\n",
      "|Black Rebel Motor...| 4.650000000993411|     6|\n",
      "|       Kings of Leon| 4.785714251654489|     7|\n",
      "+--------------------+------------------+------+\n",
      "\n"
     ]
    }
   ],
   "source": [
    "# By artist\n",
    "\n",
    "single_artist = sqlfns.udf(lambda artists: artists[0], sqlfns.StringType())\n",
    "\n",
    "by_artist = album_reviews.\\\n",
    "    filter(sqlfns.size(album_reviews.album.artists) == 1).\\\n",
    "    withColumn(\"artist\", single_artist(\"album.artists\")).\\\n",
    "    groupby(\"artist\").\\\n",
    "    agg(sqlfns.avg(\"score\").alias(\"score_avg\"),\n",
    "        sqlfns.count(\"*\").alias(\"albums\"))\n",
    "    \n",
    "gte_five_albums = by_artist.filter(by_artist.albums >= 5)\n",
    "\n",
    "gte_five_albums.cache()\n",
    "\n",
    "# Most/least loved artists\n",
    "top_ten = gte_five_albums.sort(\"score_avg\", ascending=False).limit(10)\n",
    "bottom_ten = gte_five_albums.sort(\"score_avg\", ascending=True).limit(10)\n",
    "\n",
    "print(\"10 most loved artists (with 5 or more albums reviewed):\")\n",
    "top_ten.show()\n",
    "\n",
    "print(\"10 least loved artists (with 5 or more albums reviewed):\")\n",
    "bottom_ten.show()"
   ]
  },
  {
   "cell_type": "code",
   "execution_count": 126,
   "metadata": {
    "collapsed": false
   },
   "outputs": [
    {
     "name": "stdout",
     "output_type": "stream",
     "text": [
      "The Beatles albums:\n",
      "+-------------+-----------+--------------------+-----+\n",
      "|original_year|The Beatles|               title|score|\n",
      "+-------------+-----------+--------------------+-----+\n",
      "|         1963|The Beatles|    Please Please Me|  9.5|\n",
      "|         1963|The Beatles|    With the Beatles|  8.8|\n",
      "|         1964|The Beatles|  A Hard Day's Night|  9.7|\n",
      "|         1964|The Beatles|    Beatles For Sale|  9.3|\n",
      "|         1965|The Beatles|         Rubber Soul| 10.0|\n",
      "|         1965|The Beatles|               Help!|  9.2|\n",
      "|         1966|The Beatles|            Revolver| 10.0|\n",
      "|         1967|The Beatles|Magical Mystery Tour| 10.0|\n",
      "|         1967|The Beatles|Sgt. Pepper's Lon...| 10.0|\n",
      "|         1968|The Beatles|         The Beatles| 10.0|\n",
      "|         1969|The Beatles|          Abbey Road| 10.0|\n",
      "|         1969|The Beatles|    Yellow Submarine|  6.2|\n",
      "|         1970|The Beatles|           Let It Be|  9.1|\n",
      "|         1988|The Beatles|        Past Masters|  9.2|\n",
      "|         2003|The Beatles|  Let It Be... Naked|  7.0|\n",
      "|         2004|The Beatles|The Capitol Album...|  6.0|\n",
      "|         2006|The Beatles|                Love|  8.5|\n",
      "|         2006|The Beatles|The Capitol Album...|  7.5|\n",
      "|         2009|The Beatles|          Stereo Box| 10.0|\n",
      "|         2009|The Beatles|           Rock Band|  9.5|\n",
      "|         2009|The Beatles|             In Mono| 10.0|\n",
      "|         2013|The Beatles|On Air - Live at ...|  7.2|\n",
      "+-------------+-----------+--------------------+-----+\n",
      "\n",
      "Radiohead albums:\n",
      "+-------------+---------+--------------------+-----+\n",
      "|original_year|Radiohead|               title|score|\n",
      "+-------------+---------+--------------------+-----+\n",
      "|         2000|Radiohead|               Kid A| 10.0|\n",
      "|         2001|Radiohead|            Amnesiac|  9.0|\n",
      "|         2001|Radiohead|I Might Be Wrong:...|  8.0|\n",
      "|         2007|Radiohead|  In Rainbows [CD 2]|  6.2|\n",
      "|         2007|Radiohead|         In Rainbows|  9.3|\n",
      "|         2008|Radiohead|         The Best Of|  4.0|\n",
      "|         2008|Radiohead|The Best Of [Spec...|  2.0|\n",
      "|         2009|Radiohead|Pablo Honey: Coll...|  5.4|\n",
      "|         2009|Radiohead|Hail to the Thief...|  8.6|\n",
      "|         2009|Radiohead|Kid A: Special Co...| 10.0|\n",
      "|         2009|Radiohead|The Bends: Collec...| 10.0|\n",
      "|         2009|Radiohead|OK Computer: Coll...| 10.0|\n",
      "|         2009|Radiohead|Amnesiac: Special...|  9.5|\n",
      "|         2011|Radiohead|    TKOL RMX 1234567|  6.0|\n",
      "|         2011|Radiohead|   The King of Limbs|  7.9|\n",
      "|         2016|Radiohead|  A Moon Shaped Pool|  9.1|\n",
      "+-------------+---------+--------------------+-----+\n",
      "\n"
     ]
    }
   ],
   "source": [
    "# The Beatles\n",
    "\n",
    "print(\"The Beatles albums:\")\n",
    "album_reviews.\\\n",
    "    filter(sqlfns.array_contains(\"album.artists\", \"The Beatles\")).\\\n",
    "    select(\"original_year\", sqlfns.lit(\"The Beatles\"), \"album.title\", \"score\").\\\n",
    "    sort(\"original_year\").\\\n",
    "    show(22)\n",
    "    \n",
    "# Radiohead\n",
    "print(\"Radiohead albums:\")\n",
    "album_reviews.\\\n",
    "    filter(sqlfns.array_contains(\"album.artists\", \"Radiohead\")).\\\n",
    "    select(\"original_year\", sqlfns.lit(\"Radiohead\"), \"album.title\", \"score\").\\\n",
    "    sort(\"original_year\").\\\n",
    "    show()"
   ]
  }
 ],
 "metadata": {
  "kernelspec": {
   "display_name": "Python 3",
   "language": "python",
   "name": "python3"
  },
  "language_info": {
   "codemirror_mode": {
    "name": "ipython",
    "version": 3
   },
   "file_extension": ".py",
   "mimetype": "text/x-python",
   "name": "python",
   "nbconvert_exporter": "python",
   "pygments_lexer": "ipython3",
   "version": "3.5.2"
  }
 },
 "nbformat": 4,
 "nbformat_minor": 0
}
